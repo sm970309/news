{
 "cells": [
  {
   "cell_type": "code",
   "execution_count": 1,
   "id": "0310c1ec",
   "metadata": {},
   "outputs": [],
   "source": [
    "import requests\n",
    "from bs4 import BeautifulSoup\n",
    "\n",
    "src = 'https://souhn2.tistory.com/category/%EC%9E%A1%ED%95%99%EB%8B%A4%EC%8B%9D/%EC%B5%9C%EA%B7%BC%EC%9D%B4%EC%8A%88?page=1'\n",
    "res = requests.get(src)\n",
    "res.raise_for_status()\n",
    "soup = BeautifulSoup(res.text,'lxml')\n"
   ]
  },
  {
   "cell_type": "code",
   "execution_count": 2,
   "id": "d3532208",
   "metadata": {},
   "outputs": [
    {
     "data": {
      "text/plain": [
       "'https://souhn2.tistory.com/entry/%EB%8C%80%ED%95%99%EA%B0%80%EC%97%90-%EC%9E%90%EC%A3%BC%EB%B3%B4%EC%9D%B8%EB%8B%A4%EB%8A%94-%ED%95%AB%ED%95%9C-%EB%B0%98%ED%8C%94%ED%8B%B0?category=1236687'"
      ]
     },
     "execution_count": 2,
     "metadata": {},
     "output_type": "execute_result"
    }
   ],
   "source": [
    "links = []\n",
    "items = soup.find_all('div',attrs={'class':'post-item'})\n",
    "for item in items:\n",
    "    url = item.find('a')['href']\n",
    "    links.append(\"https://souhn2.tistory.com\"+url)\n",
    "    \n",
    "links[0]"
   ]
  },
  {
   "cell_type": "code",
   "execution_count": 3,
   "id": "9fdf0234",
   "metadata": {},
   "outputs": [],
   "source": [
    "data = {'domain':'souhn2.tistory.com'}\n",
    "\n",
    "url = links[0]\n",
    "res = requests.get(url)\n",
    "res.raise_for_status()\n",
    "soup = BeautifulSoup(res.text,'lxml')\n",
    "\n",
    "title = soup.find('div',attrs={'class':'post-cover'})\n",
    "data['title'] = title.find('h1').text\n"
   ]
  },
  {
   "cell_type": "code",
   "execution_count": 4,
   "id": "f4558092",
   "metadata": {},
   "outputs": [
    {
     "data": {
      "text/plain": [
       "{'domain': 'https://souhn2.tistory.com/entry/%EB%8C%80%ED%95%99%EA%B0%80%EC%97%90-%EC%9E%90%EC%A3%BC%EB%B3%B4%EC%9D%B8%EB%8B%A4%EB%8A%94-%ED%95%AB%ED%95%9C-%EB%B0%98%ED%8C%94%ED%8B%B0?category=1236687',\n",
       " 'title': '대학가에 자주보인다는 핫한 반팔티'}"
      ]
     },
     "execution_count": 4,
     "metadata": {},
     "output_type": "execute_result"
    }
   ],
   "source": [
    "data"
   ]
  }
 ],
 "metadata": {
  "kernelspec": {
   "display_name": "Python 3 (ipykernel)",
   "language": "python",
   "name": "python3"
  },
  "language_info": {
   "codemirror_mode": {
    "name": "ipython",
    "version": 3
   },
   "file_extension": ".py",
   "mimetype": "text/x-python",
   "name": "python",
   "nbconvert_exporter": "python",
   "pygments_lexer": "ipython3",
   "version": "3.9.7"
  }
 },
 "nbformat": 4,
 "nbformat_minor": 5
}
